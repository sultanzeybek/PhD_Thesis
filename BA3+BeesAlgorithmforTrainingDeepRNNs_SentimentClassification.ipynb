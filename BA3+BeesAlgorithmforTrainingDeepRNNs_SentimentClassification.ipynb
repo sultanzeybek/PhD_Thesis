{
  "nbformat": 4,
  "nbformat_minor": 0,
  "metadata": {
    "anaconda-cloud": {},
    "kernelspec": {
      "name": "python3",
      "display_name": "Python 3"
    },
    "language_info": {
      "codemirror_mode": {
        "name": "ipython",
        "version": 3
      },
      "file_extension": ".py",
      "mimetype": "text/x-python",
      "name": "python",
      "nbconvert_exporter": "python",
      "pygments_lexer": "ipython3",
      "version": "3.6.1"
    },
    "colab": {
      "name": "BA3+BeesAlgorithmforTrainingDeepRNNs_SentimentClassification.ipynb ",
      "provenance": [],
      "collapsed_sections": [
        "PiBxYskeQ8tr",
        "tFba-Y62Q8vt",
        "3rD06Y37Q8yn",
        "PivSNOdBQ8yy",
        "1-fne20qQ8zb",
        "P8R6i8U-xRe2",
        "dmpGm1yCQ8zo",
        "lUJCPCS2Q8z9"
      ],
      "machine_shape": "hm"
    }
  },
  "cells": [
    {
      "cell_type": "code",
      "metadata": {
        "id": "hfUyLgZPQ8sO"
      },
      "source": [
        "%matplotlib inline\n",
        "import matplotlib.pyplot as plt\n",
        "from scipy.spatial.distance import cdist\n",
        "!pip install --upgrade numpy==1.16.1\n",
        "!pip install tensorflow==2.0.0-beta1\n",
        "import tensorflow as tf\n",
        "\n",
        "tf.__version__\n",
        "print(\"TensorFlow version: {}\".format(tf.__version__))\n",
        "\n",
        "\n",
        "\n",
        "print(\"Eager execution: {}\".format(tf.executing_eagerly()))\n",
        "\n",
        "tf.keras.__version__\n"
      ],
      "execution_count": null,
      "outputs": []
    },
    {
      "cell_type": "code",
      "metadata": {
        "id": "1n8g9pObTEL4"
      },
      "source": [
        "# this function reads in a textfile and fixes an issue with \\\\\n",
        "def filereader(path): \n",
        "  with open(path, mode=\"r\", encoding=\"utf-8\") as f:\n",
        "    for line in f:\n",
        "      yield line.strip().replace(\"\\\\\",\"\")\n",
        "\n",
        "import re\n",
        "import random\n",
        "import time\n",
        "import math\n",
        "import numpy as np\n",
        "import nltk\n",
        "import os\n",
        "import matplotlib.pyplot as plt\n",
        "plt.style.use('default')"
      ],
      "execution_count": null,
      "outputs": []
    },
    {
      "cell_type": "code",
      "metadata": {
        "id": "QAoKuGZ7TJJW"
      },
      "source": [
        "# We can use NLTK to print the tree structure more nicely\n",
        "from nltk import Tree\n",
        "from nltk.treeprettyprinter import TreePrettyPrinter\n",
        "tree = Tree.fromstring(s)\n",
        "print(TreePrettyPrinter(tree))"
      ],
      "execution_count": null,
      "outputs": []
    },
    {
      "cell_type": "code",
      "metadata": {
        "id": "KOzbGSl2TQ7J"
      },
      "source": [
        "# Let's first make a function that extracts the tokens (the leaves).\n",
        "\n",
        "def tokens_from_treestring(s):\n",
        "  \"\"\"extract the tokens from a sentiment tree\"\"\"\n",
        "  return re.sub(r\"\\([0-9] |\\)\", \"\", s).split()\n",
        " \n",
        "# let's try it on our example tree\n",
        "tokens = tokens_from_treestring(s)\n",
        "print(tokens)\n",
        "print(len(tokens))\n",
        "\n",
        "SHIFT = 0\n",
        "REDUCE = 1\n",
        "\n",
        "\n",
        "def transitions_from_treestring(s):\n",
        "  s = re.sub(\"\\([0-5] ([^)]+)\\)\", \"0\", s)\n",
        "  s = re.sub(\"\\)\", \" )\", s)\n",
        "  s = re.sub(\"\\([0-4] \", \"\", s)\n",
        "  s = re.sub(\"\\([0-4] \", \"\", s)\n",
        "  s = re.sub(\"\\)\", \"1\", s)\n",
        "  return list(map(int, s.split()))\n",
        "\n",
        "  # Now let's first see how large our data sets are.\n",
        "for path in (\"/content//trees/train.txt\", \"/content//trees/dev.txt\", \"/content/trees/test.txt\"):\n",
        "  print(\"{:16s} {:4d}\".format(path, sum(1 for _ in filereader(path))))\n",
        "\n",
        "\n",
        "from collections import namedtuple\n",
        "from nltk import Tree\n",
        "\n",
        "# A simple way to define a class is using namedtuple.\n",
        "Example = namedtuple(\"Example\", [\"tokens\", \"tree\", \"label\", \"transitions\"])\n",
        "\n",
        "   \n",
        "def examplereader(path, lower=False):\n",
        "  \"\"\"Returns all examples in a file one by one.\"\"\"\n",
        "  for line in filereader(path):\n",
        "    line = line.lower() if lower else line\n",
        "    tokens = tokens_from_treestring(line)\n",
        "    if (len(tokens) <= 70):\n",
        "      tree = Tree.fromstring(line)  # use NLTK's Tree\n",
        "      label = int(line[1])\n",
        "      trans = transitions_from_treestring(line)\n",
        "      yield Example(tokens=tokens, tree=tree, label=label, transitions=trans)\n",
        "  \n",
        "\n",
        "# Let's load the data into memory.\n",
        "LOWER = False  # we will keep the original casing\n",
        "train_data = list(examplereader(\"/content/train.txt\", lower=LOWER))\n",
        "dev_data = list(examplereader(\"/content/dev.txt\", lower=LOWER))\n",
        "test_data = list(examplereader(\"/content/test.txt\", lower=LOWER))\n",
        "\n",
        "print(\"train\", len(train_data))\n",
        "print(\"dev\", len(dev_data))\n",
        "print(\"test\", len(test_data))"
      ],
      "execution_count": null,
      "outputs": []
    },
    {
      "cell_type": "code",
      "metadata": {
        "id": "MgkVQ6EAQ8sZ"
      },
      "source": [
        "# from tf.keras.models import Sequential  # This does not work!\n",
        "\n",
        "from tensorflow.keras.models import Sequential\n",
        "from tensorflow.keras.models import Sequential\n",
        "from tensorflow.keras.layers import Dense, GRU, Embedding\n",
        "from tensorflow.keras.preprocessing.sequence import pad_sequences\n",
        "\n",
        "from tensorflow.keras.datasets import imdb\n",
        "\n",
        "from tensorflow.keras.preprocessing import sequence\n",
        "import gensim.models.keyedvectors as word2vec #need to use due to depreceated model\n",
        "\n",
        "\n",
        "from sklearn.model_selection import train_test_split\n",
        "from sklearn.metrics import confusion_matrix, roc_curve,  roc_auc_score, classification_report\n",
        "\n",
        "\n",
        "import codecs\n",
        "\n",
        "import re\n",
        "import nltk\n",
        "import pandas as pd\n",
        "import numpy as np\n",
        "import os"
      ],
      "execution_count": null,
      "outputs": []
    },
    {
      "cell_type": "code",
      "metadata": {
        "id": "3uy4PzqzQ8sy",
        "colab": {
          "base_uri": "https://localhost:8080/",
          "height": 54
        },
        "outputId": "4dc20a9f-707d-43e0-fe7c-d3d5849e5435"
      },
      "source": [
        "from google.colab import drive\n",
        "drive.mount('/content/drive')"
      ],
      "execution_count": null,
      "outputs": [
        {
          "output_type": "stream",
          "text": [
            "Drive already mounted at /content/drive; to attempt to forcibly remount, call drive.mount(\"/content/drive\", force_remount=True).\n"
          ],
          "name": "stdout"
        }
      ]
    },
    {
      "cell_type": "code",
      "metadata": {
        "id": "VFu85DDxMGeJ"
      },
      "source": [
        "path = '/content/drive/My Drive/turkish_sentiment_data.csv'\n",
        "clear_file = '/content/drive/My Drive/turkish_sent_clear.csv'\n",
        "\n",
        "path_neg='/content/drive/My Drive/_movie_neg.csv'\n",
        "path_pos = '/content/drive/My Drive/_movie_pos.csv'\n",
        "\n",
        "df = pd.read_csv(path,error_bad_lines=False, warn_bad_lines=False,delimiter=';',header=0,engine='python')\n",
        "print(df)\n",
        "#columns of the csv file\n",
        "column_names = ['tweet', 'sentiment']\n",
        "print(df.columns.tolist())\n",
        "\n",
        "\n",
        "#Dividing the dataset into features and labels\n",
        "feature_names = column_names[:-1]\n",
        "label_name = column_names[-1]\n",
        "\n",
        "\n",
        "print(\"Features: {}\".format(feature_names))\n",
        "print(\"Label: {}\".format(label_name))"
      ],
      "execution_count": null,
      "outputs": []
    },
    {
      "cell_type": "code",
      "metadata": {
        "id": "V_KScV4N9yfl",
        "colab": {
          "base_uri": "https://localhost:8080/"
        },
        "outputId": "3a987c02-37b5-467c-ff84-48f98b0dfae7"
      },
      "source": [
        "import sys, os, re, csv, codecs, numpy as np, pandas as pd\n",
        "\n",
        "posList = []\n",
        "negList = []\n",
        "labels = []\n",
        "\n",
        "\n",
        "path_neg='/content/negative'\n",
        "path_pos = '/content/positive'\n",
        "\n",
        "def open_f(filename,aList):\n",
        "    with codecs.open(filename, 'r',encoding=\"utf-8\") as f:\n",
        "         content = f.readlines()\n",
        "         content = [x.strip() for x in content]\n",
        "         for x in content:\n",
        "             aList.append(x)\n",
        "             #print(x)\n",
        "\n",
        "open_f(path_neg,negList)\n",
        "open_f(path_pos,posList)\n",
        "\n",
        "train_list = posList + negList\n",
        "\n",
        "\n",
        "#print(negList)\n",
        "\n",
        "def labelTraining(posList,negList,labels):\n",
        "    for x in posList:\n",
        "        labels.append(1)\n",
        "    for x in negList:\n",
        "        labels.append(0)\n",
        "\n",
        "labelTraining(posList,negList,labels)\n",
        "dictionary = dict(zip(train_list, labels))\n",
        "\n",
        "df = pd.DataFrame(list(dictionary.items()),\n",
        "                      columns=['tweet','sentiment'])\n",
        "print(df)"
      ],
      "execution_count": null,
      "outputs": [
        {
          "output_type": "stream",
          "text": [
            "                                                  tweet  sentiment\n",
            "0     okuyun, okuyun ve sona geldiğinizde şaşırıp ka...          1\n",
            "1     ahmet ümit in okuduğum ilk romanı. karakter se...          1\n",
            "2     bence ahmet ümitin en iyi romanı. diğer yazdık...          1\n",
            "3     ahmet ümiti bu kitapla tanıdım ve okuduğum tüm...          1\n",
            "4     ahmet ümitten yine merak ve şüphe dolu bir ser...          1\n",
            "...                                                 ...        ...\n",
            "1395  sırf okumak için okudum neredeyse.tipik bir tü...          0\n",
            "1396  bir orhan pamuk klasiği olarak anlatımlar çok ...          0\n",
            "1397  arkadaşlar burada çok satılınca merak edip git...          0\n",
            "1398  orhan pamukun birçok eserini okuyan biri olara...          0\n",
            "1399  orhan pamuk malum...bir kitap okuyup hayatı de...          0\n",
            "\n",
            "[1400 rows x 2 columns]\n"
          ],
          "name": "stdout"
        }
      ]
    },
    {
      "cell_type": "code",
      "metadata": {
        "id": "nBLBzivf_kbD"
      },
      "source": [
        "#Dividing the dataset into features and labels\n",
        "tweets = df['tweet']\n",
        "labels = df['sentiment']\n"
      ],
      "execution_count": null,
      "outputs": []
    },
    {
      "cell_type": "code",
      "metadata": {
        "id": "t5Swa_ZH_ssT"
      },
      "source": [
        "from tensorflow.keras.preprocessing.text import Tokenizer\n",
        "from tensorflow.keras.preprocessing.sequence import pad_sequences\n",
        "\n",
        "x_train = df.loc[:1400, 'tweet'].values\n",
        "y_train = df.loc[:1400, 'sentiment'].values\n",
        "\n",
        "x_train, x_test, y_train, y_test = train_test_split(x_train, y_train,test_size=0.2, random_state=1)\n",
        "x_train, x_validation, y_train, y_validation = train_test_split(x_train,y_train, test_size=0.2, random_state=1)"
      ],
      "execution_count": null,
      "outputs": []
    },
    {
      "cell_type": "code",
      "metadata": {
        "id": "OZTomHW-UxPw",
        "colab": {
          "base_uri": "https://localhost:8080/"
        },
        "outputId": "f168ea0a-ae14-4776-e98d-a5ed86b349ab"
      },
      "source": [
        "tweets_split = []\n",
        "\n",
        "punctuation = \"rt.#,_;'!?:,/-()1234567890«»^—%&[]*@\"\n",
        "punctuation2 = \".#,_;'!?,/-()«»^—%&[]*@:\"\n",
        "\n",
        "for i, line in enumerate(tweets):\n",
        "    #print(line)\n",
        "    token = str(line).lower().split()\n",
        "    table = str.maketrans('', '', punctuation2)\n",
        "    token = [w.translate(table) for w in token]\n",
        "    clear_token = []\n",
        "    for word in token:\n",
        "        clear_token.append(word)\n",
        "    tweets_split.append(clear_token)\n",
        "\n",
        "print(tweets_split[1:5])"
      ],
      "execution_count": null,
      "outputs": [
        {
          "output_type": "stream",
          "text": [
            "[['ahmet', 'ümit', 'in', 'okuduğum', 'ilk', 'romanı', 'karakter', 'seçimi', 'beyoğlunu', 'anlatışı', 'üslubu', 'çok', 'iyi', 'okurken', 'kendinizi', 'beyoğlunda', 'gezerken', 'romanın', 'kahramanlarıyla', 'sohbet', 'ederken', 'bulacaksınız', 'tavsiye', 'ediyorum'], ['bence', 'ahmet', 'ümitin', 'en', 'iyi', 'romanı', 'diğer', 'yazdıklarından', 'bir', 'adım', 'önde', 'sıkılmadan', 'okuyabileceğiniz', 'bir', 'kitap', 'kesinlikle', 'tavsi', 'ye', 'ederi', 'm'], ['ahmet', 'ümiti', 'bu', 'kitapla', 'tanıdım', 've', 'okuduğum', 'tüm', 'türk', 'yazarlar', 'içinde', 'favorim', 'olay', 'örgüsü', 've', 'kalemi', 'çok', 'başarılı', 'bütün', 'kitapları', 'sizi', 'kendine', 'bağlıyor', 've', 'kitap', 'bitsin', 'istemiyorsunuzbu', 'kitabı', 'da', 'mükemmel', 'derecede', 'sürükleyici', 've', 'tüm', 'kitap', 'son', 'dört', 'sayfada', 'çözümleniyortüm', 'kitaplarını', 'okumanızı', 'tavsiye', 'ederim'], ['ahmet', 'ümitten', 'yine', 'merak', 've', 'şüphe', 'dolu', 'bir', 'serüven', 'her', 'nekadar', 'kavim', 've', 'istanbul', 'hatırası', 'kadar', 'sizleri', 'sarmayacak', 'olsada', 'okumaya', 'başladığınızda', 'elinizden', 'kolayca', 'bırakamayacağınız', 'bir', 'eser', 'olduğunu', 'göreceksiniz', 'kitap', 'okunmaya', 'başladığında', 'sizi', 'kendine', 'çektiğini', 'olayların', 'içindeymiş', 'gibi', 'hissettiğinizi', 'anlayacaksınız']]\n"
          ],
          "name": "stdout"
        }
      ]
    },
    {
      "cell_type": "code",
      "metadata": {
        "id": "zM0NWf7QwLzi",
        "colab": {
          "base_uri": "https://localhost:8080/"
        },
        "outputId": "b95e5e47-4786-46da-e423-54091c84b5d4"
      },
      "source": [
        "# for w in word_vec:\n",
        "#     print(\"Vector components of a word: {}\".format(w))\n",
        "\n",
        "\n",
        "print(tweets_split.__len__())\n",
        "\n",
        "maxlen = 200\n",
        "\n",
        "output_dim = len(np.unique(df.sentiment))\n",
        "# create the tokenizer\n",
        "tokenizer = Tokenizer()\n",
        "# fit the tokenizer on the documents\n",
        "tokenizer.fit_on_texts(tweets_split)\n",
        "# sequence encode\n",
        "sequences = tokenizer.texts_to_sequences(tweets_split)\n",
        "\n",
        "\n",
        "word_index = tokenizer.word_index\n",
        "print('Found %s unique tokens.' % len(word_index))\n",
        "\n",
        "data = pad_sequences(sequences, maxlen=maxlen)\n",
        "labels = (np.asarray(labels))\n",
        "\n",
        "print('Shape of data tensor:', tweets.shape)\n",
        "print('Shape of label tensor:', labels.shape)\n",
        "\n",
        "# split the data into a training set and a validation set\n",
        "indices = np.arange(data.shape[0])\n",
        "np.random.shuffle(indices)\n",
        "data = data[indices]\n",
        "labels = labels[indices]\n",
        "\n",
        "VALIDATION_SPLIT = 0.2\n",
        "nb_validation_samples = int(VALIDATION_SPLIT * data.shape[0])\n",
        "\n",
        "x_train = data[:-nb_validation_samples]\n",
        "y_train = labels[:-nb_validation_samples]\n",
        "x_val = data[-nb_validation_samples:]\n",
        "y_val = labels[-nb_validation_samples:]\n",
        "\n",
        "x_train = data[:-nb_validation_samples]\n",
        "y_train = labels[:-nb_validation_samples]\n",
        "x_test = data[-nb_validation_samples:]\n",
        "y_test = labels[-nb_validation_samples:]\n",
        "\n",
        "print(x_train.shape)\n",
        "print(y_train.shape)\n",
        "print(x_val.shape)\n",
        "print(y_val.shape)\n",
        "print(x_test.shape)\n",
        "print(y_test.shape)\n",
        "\n"
      ],
      "execution_count": null,
      "outputs": [
        {
          "output_type": "stream",
          "text": [
            "1400\n",
            "Found 11710 unique tokens.\n",
            "Shape of data tensor: (1400,)\n",
            "Shape of label tensor: (1400,)\n",
            "(1120, 200)\n",
            "(1120,)\n",
            "(280, 200)\n",
            "(280,)\n",
            "(280, 200)\n",
            "(280,)\n"
          ],
          "name": "stdout"
        }
      ]
    },
    {
      "cell_type": "code",
      "metadata": {
        "id": "7RB0PlWVnbBt"
      },
      "source": [
        "sequence_length = 500\n",
        "top_words = len(word_index)+1\n",
        "embedding_dim = 300\n",
        "filter_sizes = [3,4,5]\n",
        "num_filters = 256\n",
        "drop = 0.5\n",
        "\n",
        "nb_epoch = 2\n",
        "batch_size = 256\n",
        "\n"
      ],
      "execution_count": null,
      "outputs": []
    },
    {
      "cell_type": "code",
      "metadata": {
        "id": "Y36kovydQ8s1",
        "colab": {
          "base_uri": "https://localhost:8080/"
        },
        "outputId": "afc0efbc-079d-4f6e-958c-d1faf75a223c"
      },
      "source": [
        "max_features = 1000\n",
        "maxlen = 200\n",
        "batch_size = 32\n",
        "print('Loading data...')\n",
        "#(x_train, y_train),(x_test, y_test) = imdb.load_data(num_words=max_features)\n",
        "print(len(x_train), 'train sequences')\n",
        "print(len(x_test), 'test sequences')\n",
        "\n",
        "print('Pad sequences (samples x time)')\n",
        "input_train = sequence.pad_sequences(x_train, maxlen=maxlen)\n",
        "input_test = sequence.pad_sequences(x_test, maxlen=maxlen)\n",
        "input_train_small = input_train[:100]\n",
        "input_test_small= input_test[:100]\n",
        "y_train_small = y_train[:100]\n",
        "\n",
        "y_test_small = y_test[:100]\n",
        "\n",
        "print('x_train shape:', x_train.shape)\n",
        "print('x_test shape:', x_test.shape)\n"
      ],
      "execution_count": null,
      "outputs": [
        {
          "output_type": "stream",
          "text": [
            "Loading data...\n",
            "1120 train sequences\n",
            "280 test sequences\n",
            "Pad sequences (samples x time)\n",
            "x_train shape: (1120, 200)\n",
            "x_test shape: (280, 200)\n"
          ],
          "name": "stdout"
        }
      ]
    },
    {
      "cell_type": "code",
      "metadata": {
        "id": "MosIPtNv3TJ8"
      },
      "source": [
        "embedding_vector_length = maxlen\n",
        "model = tf.keras.Sequential([\n",
        "   tf.keras.layers.Embedding(top_words, 32, input_length=maxlen, embeddings_initializer='random_uniform'),\n",
        "    tf.keras.layers.SimpleRNN(32, kernel_initializer='random_uniform'),  # input shape required\n",
        "    tf.keras.layers.Dense(1, activation=tf.nn.sigmoid,),\n",
        "])\n"
      ],
      "execution_count": null,
      "outputs": []
    },
    {
      "cell_type": "code",
      "metadata": {
        "id": "WHUUvBQ3FRNm",
        "colab": {
          "base_uri": "https://localhost:8080/"
        },
        "outputId": "f252aa3c-201f-450c-80bd-5e70f2e088a6"
      },
      "source": [
        "predictions = model(input_train_small)\n",
        "predictions = tf.reshape(predictions,[len(input_train_small),])\n",
        "print('y_train shape:', y_train_small.shape)\n",
        "print('predictions shape:', predictions.shape)"
      ],
      "execution_count": null,
      "outputs": [
        {
          "output_type": "stream",
          "text": [
            "y_train shape: (100,)\n",
            "predictions shape: (100,)\n"
          ],
          "name": "stdout"
        }
      ]
    },
    {
      "cell_type": "code",
      "metadata": {
        "id": "iB8DRG0YLr7r"
      },
      "source": [
        "print(y_train_small)\n",
        "print(predictions)"
      ],
      "execution_count": null,
      "outputs": []
    },
    {
      "cell_type": "code",
      "metadata": {
        "id": "1KEA1cEk9hRK"
      },
      "source": [
        "\n",
        "loss_object = tf.keras.losses.binary_crossentropy\n",
        "\n",
        "def loss(model, x, y):\n",
        "    predictions = model(x)\n",
        "    predictions = tf.reshape(predictions,[len(x),])\n",
        "    return loss_object(y_true=y, y_pred=predictions)\n",
        "\n",
        "l = loss(model, input_train_small, y_train_small)"
      ],
      "execution_count": null,
      "outputs": []
    },
    {
      "cell_type": "code",
      "metadata": {
        "id": "WoPfkvBwTWGf",
        "colab": {
          "base_uri": "https://localhost:8080/",
          "height": 34
        },
        "outputId": "c1ec4d41-8c86-4df0-a30b-ae1014e17ed6"
      },
      "source": [
        "print(l)"
      ],
      "execution_count": null,
      "outputs": [
        {
          "output_type": "stream",
          "text": [
            "tf.Tensor(0.70022637, shape=(), dtype=float32)\n"
          ],
          "name": "stdout"
        }
      ]
    },
    {
      "cell_type": "code",
      "metadata": {
        "id": "vd0gNBVe9xZ8"
      },
      "source": [
        "def get_best_solution(beeList):\n",
        "\n",
        "  beeList.sort(key=lambda bee: bee.Loss, reverse=False)\n",
        "  best_loss = beeList[0].Loss\n",
        "  best_weights = beeList[0].Weight\n",
        "  best_model = beeList[0].Model\n",
        "      \n",
        "  return best_loss,best_weights,best_model"
      ],
      "execution_count": null,
      "outputs": []
    },
    {
      "cell_type": "code",
      "metadata": {
        "id": "r2CHALdC8__o"
      },
      "source": [
        "def performBeeDance(weights,ngh):\n",
        "  \n",
        "  #random.shuffle(weights)\n",
        "  gamma_shape_parameter = 1.5\n",
        "  gamma_scale_parameter = 0.5\n",
        "  counter = 0\n",
        "  #ngh = tf.random.uniform(tf.shape(ngh), minval=0, maxval=1, dtype=tf.float32, seed=None, name=None)\n",
        "  #print(weights)\n",
        "  for w in weights:\n",
        "      w = tf.random.shuffle(w)\n",
        "     # x = np.random.uniform(-ngh, ngh)\n",
        "     # w_np = w + x \n",
        "      \n",
        "     # print(w)\n",
        "      #print(\"Before Bee Dance weights: {}\".format(w))\n",
        "      w_random1 = tf.random.uniform(tf.shape(w), minval=-ngh, maxval=ngh, dtype=tf.float32, seed=None, name=None)\n",
        "\n",
        "     # w_random2 = tf.random.gamma(tf.shape(w), alpha=gamma_shape_parameter, beta=1/gamma_scale_parameter)\n",
        "      w_tf = w + w_random1 \n",
        "      \n",
        "      if w != 0:\n",
        "         w = w_tf\n",
        "         #w = SVDControl(w_tf, ngh)\n",
        "\n",
        "      #w = tf.random.shuffle(w)\n",
        "      #print(\"After Bee Dance weights: {}\".format(w1))\n",
        "      #print(\"After Bee Dance weights: {}\".format(w2))\n"
      ],
      "execution_count": null,
      "outputs": []
    },
    {
      "cell_type": "code",
      "metadata": {
        "id": "ujY-ZfT35Q-V",
        "colab": {
          "base_uri": "https://localhost:8080/"
        },
        "outputId": "6d3957a0-ab45-4821-a841-537685ee1203"
      },
      "source": [
        "def loss_grad(model, x, y, training):\n",
        "  # training=training is needed only if there are layers with different\n",
        "  # behavior during training versus inference (e.g. Dropout).\n",
        "  y_ = model(x, training=training)\n",
        "\n",
        "  return loss_object(y_true=y, y_pred=y_)\n",
        "\n",
        "\n",
        "l = loss_grad(model, input_train_small, y_train_small, training=False)\n",
        "print(\"Loss test: {}\".format(l))"
      ],
      "execution_count": null,
      "outputs": [
        {
          "output_type": "stream",
          "text": [
            "Loss test: [0.69304675 0.69160795 0.69282913 0.6914518  0.6917697  0.6919516\n",
            " 0.6927844  0.69256544 0.69260144 0.69149286 0.69430715 0.69138885\n",
            " 0.6915893  0.6923164  0.69244844 0.6926114  0.6926939  0.69148505\n",
            " 0.6916187  0.6915004  0.69245386 0.69207865 0.692249   0.69251233\n",
            " 0.69135916 0.69135803 0.6923216  0.6920943  0.69147146 0.693862\n",
            " 0.691582   0.6925932  0.69200623 0.691912   0.6916672  0.6914627\n",
            " 0.69220644 0.69165695 0.69177127 0.6916747  0.69143796 0.6914447\n",
            " 0.6913475  0.69163924 0.6914737  0.6915441  0.6920615  0.6927288\n",
            " 0.6917793  0.6915713  0.69165254 0.69276184 0.69220454 0.6920134\n",
            " 0.6922325  0.69289756 0.69140685 0.69640577 0.69202536 0.6930428\n",
            " 0.69239897 0.6930899  0.6918473  0.692136   0.69156265 0.69151497\n",
            " 0.69184244 0.6913642  0.6914473  0.69525087 0.69190633 0.6914492\n",
            " 0.6915377  0.6916259  0.69262713 0.6914588  0.6917295  0.6928773\n",
            " 0.6913534  0.6915521  0.69173276 0.69139344 0.69136053 0.6918822\n",
            " 0.69236624 0.69319624 0.6921177  0.69171643 0.69187087 0.69138205\n",
            " 0.6914348  0.6913785  0.69152176 0.69448316 0.6914111  0.69239366\n",
            " 0.6915179  0.69145375 0.69316816 0.6929039 ]\n"
          ],
          "name": "stdout"
        }
      ]
    },
    {
      "cell_type": "code",
      "metadata": {
        "id": "DFLCeRHJ7FvK"
      },
      "source": [
        "optimizer = tf.keras.optimizers.SGD(learning_rate=0.01)"
      ],
      "execution_count": null,
      "outputs": []
    },
    {
      "cell_type": "code",
      "metadata": {
        "id": "YfKNar7s43lp"
      },
      "source": [
        "def NoMoreVanishOrExplode(model, inputs, targets):\n",
        "  with tf.GradientTape() as tape:\n",
        "    loss_value = loss_grad(model, inputs, targets, training=True)\n",
        "  return loss_value, tape.gradient(loss_value, model.trainable_variables)"
      ],
      "execution_count": null,
      "outputs": []
    },
    {
      "cell_type": "code",
      "metadata": {
        "id": "syxKZ0ElM08h"
      },
      "source": [
        "def SVDControl(weights,ngh,batch_input,batch_output):\n",
        "\n",
        "  bounds = []\n",
        "  #random.shuffle(weights)\n",
        "  counter = 0\n",
        "  if weights is not None:\n",
        "    for w in weights:\n",
        "    #w += ngh\n",
        "    # a is a tensor.\n",
        "    # s is a tensor of singular values.\n",
        "    # u is a tensor of left singular vectors.\n",
        "    # v is a tensor of right singular vectors.\n",
        "      shape_list = w.get_shape().as_list()\n",
        "    #print(shape_list)\n",
        "      #print(\"before\", w)\n",
        "      if(len(shape_list)==2):\n",
        "        s, u, v = tf.linalg.svd(w)\n",
        "       #print(tf.shape(s))\n",
        "       #print(\"before,\",s)\n",
        "        y = s\n",
        "        bound = []\n",
        "        for k in range(len(s)): \n",
        "            if s[k] > 1+ngh:\n",
        "              #print(\"big\", s[k])\n",
        "              bound.append(1+ngh)\n",
        "            elif s[k] <= 1/(1+ngh):\n",
        "              #print(\"small,\" , s[k])\n",
        "              bound.append(1/(1+ngh))\n",
        "            else:\n",
        "          # print(\"notr\",s[k])\n",
        "              bound.append(tf.constant(s[k]))\n",
        "        y_ = tf.reshape(bound, tf.shape(s))\n",
        "        s = y_\n",
        "        bounds.append(y_)\n",
        "        tf_w_approx = tf.matmul(u, tf.matmul(tf.linalg.diag(s), v, adjoint_b=False))   \n",
        "        w = tf_w_approx\n",
        "    return weights\n",
        "\n"
      ],
      "execution_count": null,
      "outputs": []
    },
    {
      "cell_type": "code",
      "metadata": {
        "id": "dHS6cxkDovhn"
      },
      "source": [
        "SVDControl(model.weights,0.5,input_train_small,y_train_small)\n"
      ],
      "execution_count": null,
      "outputs": []
    },
    {
      "cell_type": "code",
      "metadata": {
        "id": "eRKMpOh0j48r"
      },
      "source": [
        "def rotateWeights(weights,ngh):\n",
        "  \n",
        "  #random.shuffle(weights)\n",
        "  gamma_shape_parameter = 1.5\n",
        "  gamma_scale_parameter = 0.5\n",
        "  counter = 0\n",
        "  #ngh = tf.random.uniform(tf.shape(ngh), minval=-ngh, maxval=ngh, dtype=tf.float32, seed=None, name=None)\n",
        "  #print(weights)\n",
        "  for w in weights:\n",
        "    shape_list = w.get_shape().as_list()\n",
        "    if(len(shape_list)==2):\n",
        "       s, u, v = tf.linalg.svd(w)\n",
        "       #a = tf.constant(s)\n",
        "       cond = tf.equal(s, tf.reduce_max(s))\n",
        "       s_min = tf.where(cond, s, tf.zeros_like(s))\n",
        "      \n",
        "       #tf_w_approx = tf.matmul(u, tf.linalg.matrix_transpose(v))\n",
        "       #print(\"before\", w)\n",
        "       #print(\"s\", s)\n",
        "       #s = -1*s\n",
        "       #s_ = tf.linalg.inv(s,adjoint=True)\n",
        "       tf_w_approx = tf.matmul(u, tf.matmul(tf.linalg.diag(s_min), v, adjoint_b=False))\n",
        "       w = tf_w_approx\n",
        "       #print(\"after\",w)\n",
        "       #w = tf.random.shuffle(w)  \n",
        "\n"
      ],
      "execution_count": null,
      "outputs": []
    },
    {
      "cell_type": "code",
      "metadata": {
        "id": "tP98Ai9CDiLd"
      },
      "source": [
        "#rotateWeights(best_weights,0.1)"
      ],
      "execution_count": null,
      "outputs": []
    },
    {
      "cell_type": "code",
      "metadata": {
        "id": "AvZVVfnx9_CF"
      },
      "source": [
        "import numpy as np\n",
        "import random\n",
        "\n",
        "\n",
        "class Bee():\n",
        "    def __init__(self,Weight,Loss,Model):\n",
        "        self.Weight = Weight\n",
        "        self.Loss = Loss\n",
        "        self.Model = Model\n",
        "\n",
        "    def __getWeight__(self):\n",
        "        return self.Weight\n",
        "\n",
        "    def __getLoss__(self):\n",
        "        return self.Loss\n",
        "\n",
        "    def __getModel__(self):\n",
        "        return self.Model\n",
        "\n",
        "    Weight: []\n",
        "    Loss: float\n",
        "    Model: object  \n",
        "\n",
        "initial_loses = []\n",
        "initial_weights = []\n",
        "initial_models = []\n",
        "\n",
        "#Create initial Solutions\n",
        "\n",
        "def initial_solutions(nScout,batch_input,batch_output):\n",
        "  for i in range(nScout):\n",
        "      model = tf.keras.Sequential([\n",
        "      tf.keras.layers.Embedding(top_words, 32, input_length=maxlen, embeddings_initializer='random_uniform'),\n",
        "      tf.keras.layers.SimpleRNN(32, kernel_initializer='random_uniform'),  # input shape required\n",
        "      tf.keras.layers.Dense(1, activation=tf.nn.sigmoid,)])\n",
        "\n",
        "      l = loss(model, batch_input, batch_output)\n",
        "      print(l)\n",
        "    \n",
        "      bee = Bee(0,0,None)\n",
        "      bee.Weight = model.weights\n",
        "      bee.Loss = l\n",
        "      bee.Model = model\n",
        "    \n",
        "      beeList.append(bee)\n",
        "   \n",
        "      initial_loses.append(l)\n",
        "      initial_weights.append(model.weights)\n",
        "      initial_models.append(model)\n",
        "    \n",
        "  return beeList\n",
        "    \n",
        "\n"
      ],
      "execution_count": null,
      "outputs": []
    },
    {
      "cell_type": "code",
      "metadata": {
        "id": "mMdn4_ts-KXB"
      },
      "source": [
        "import math\n",
        "\n",
        "def recruitmentPhase(beeList, nSelectedSite, nEliteSite, ngh, batch_input, batch_output):\n",
        "        \n",
        "       # print(len(beeList))\n",
        "       # beeList.sort(key=lambda bee: bee.Loss, reverse=False)\n",
        "\n",
        "        # Elite Sites\n",
        "        for i in range(nEliteSite):\n",
        "            #print(\"1111\",i)\n",
        "\n",
        "            old_weight = beeList[i].Model.get_weights()\n",
        "           # print(old_weight)\n",
        "            best_new_loss = math.inf\n",
        "\n",
        "            for j in range(nEliteSiteBee):\n",
        "                new_weight = performBeeDance(beeList[i].Weight, ngh)\n",
        "               # new_weight = mutateWeights(new_weight, ngh)\n",
        "\n",
        "                beeList[i].Model.set_weights = np.asarray(new_weight)\n",
        "               # print(new_weight)\n",
        "                new_loss = tf.reduce_mean(loss(beeList[i].Model, batch_input, batch_output))\n",
        "                beeList[i].Model.set_weights = np.asarray(old_weight)\n",
        "                \n",
        "                if new_loss < best_new_loss:\n",
        "                    best_new_loss = new_loss\n",
        "                    best_new_weight = new_weight\n",
        "\n",
        "            if best_new_loss < beeList[i].Loss:\n",
        "                beeList[i].Loss = best_new_loss\n",
        "                beeList[i].Weight = best_new_weight\n",
        "                beeList[i].Model.set_weights = np.asarray(best_new_weight)\n",
        "\n",
        "        # Selected Non-Elite Sites\n",
        "        for i in range(nEliteSite,nSelectedSite):\n",
        "            #print(\"2222\",i)\n",
        "            old_weight = beeList[i].Model.get_weights()\n",
        "            \n",
        "            best_new_loss = math.inf\n",
        "\n",
        "            for j in range(nSelectedSiteBee):\n",
        "                              #  new_weight = performBeeDance(beeList[i].Weight, ngh)\n",
        "                #print(\"before SVD\", beeList[i].Model.trainable_variables)\n",
        "                loss_, grads = NoMoreVanishOrExplode(beeList[i].Model,input_train_small, y_train_small)\n",
        "               # print(loss_)\n",
        "                    \n",
        "                optimizer.apply_gradients(zip(grads, beeList[i].Model.trainable_variables))\n",
        "\n",
        "                new_weight = SVDControl(beeList[i].Weight, ngh, batch_input, batch_output)\n",
        "                beeList[i].Model.set_weights = np.asarray(new_weight)\n",
        "                new_loss = tf.reduce_mean(loss(beeList[i].Model, batch_input, batch_output))\n",
        "                beeList[i].Model.set_weights = np.asarray(old_weight)          \n",
        "                \n",
        "                if new_loss < best_new_loss:\n",
        "                    best_new_loss = new_loss\n",
        "                    best_new_weight = new_weight\n",
        "\n",
        "            if best_new_loss < beeList[i].Loss:\n",
        "                beeList[i].Loss = best_new_loss\n",
        "                beeList[i].Weight = best_new_weight\n",
        "                beeList[i].Model.set_weights = np.asarray(best_new_weight)\n",
        "               # print(\"after SVD\",beeList[i].Model.trainable_variables)\n"
      ],
      "execution_count": null,
      "outputs": []
    },
    {
      "cell_type": "code",
      "metadata": {
        "id": "7ihjj2VF-MO2"
      },
      "source": [
        "def globalPhase(beeList, nSelectedSite, nScoutBee, batch_input, batch_output):\n",
        "\n",
        "\n",
        "    # Non - Selected Sites\n",
        "    for i in range(nSelectedSite,nScoutBee):\n",
        "        #print(\"33333\",i)\n",
        "        model = tf.keras.Sequential([\n",
        "        tf.keras.layers.Embedding(top_words, 32, input_length=maxlen, embeddings_initializer='random_uniform'),\n",
        "        tf.keras.layers.SimpleRNN(32, kernel_initializer='random_uniform'),  # input shape required\n",
        "        tf.keras.layers.Dense(1, activation=tf.nn.sigmoid,)])\n",
        "\n",
        "        \n",
        "        l = loss(model, batch_input, batch_output)\n",
        "    \n",
        "        #print(\"Global loss\",l)\n",
        "        # beeList[i].Loss = l\n",
        "        beeList[i].Loss = l\n",
        "        beeList[i].Weight = model.weights\n",
        "        beeList[i].Model = model"
      ],
      "execution_count": null,
      "outputs": []
    },
    {
      "cell_type": "code",
      "metadata": {
        "id": "p6JTUynIT8Ey"
      },
      "source": [
        "from matplotlib import rcParams, cycler\n",
        "import matplotlib.pyplot as plt\n",
        "import numpy as np\n",
        "from matplotlib.lines import Line2D\n"
      ],
      "execution_count": null,
      "outputs": []
    },
    {
      "cell_type": "code",
      "metadata": {
        "id": "RKmloUpthqfB"
      },
      "source": [
        "maxIt = 12\n",
        "nScout = 3\n",
        "nSelectedSite = 2\n",
        "nEliteSite = 1\n",
        "nSelectedSiteBee = 1\n",
        "nEliteSiteBee = 1\n",
        "ngh = 0.5  # Neighborhood Radius\n",
        "\n",
        "rdamp = 0.05 # Neighborhood Radius Damp Rate\n",
        "\n",
        "num_epochs = 1\n",
        "\n",
        "iters  = [] # save the iteration counts here for plotting\n",
        "losses = [] # save the avg loss here for plotting\n",
        "\n",
        "for epoch in range(100):\n",
        "\n",
        "  epoch_loss_avg = tf.keras.metrics.Mean()\n",
        "  epoch_accuracy = tf.keras.metrics.BinaryAccuracy()\n",
        "\n",
        "\n",
        "  for i in range(100):\n",
        "\n",
        "    batch_input = input_train[i:i+1]\n",
        "    batch_output = y_train_small[i] \n",
        "    beeList = []\n",
        "    beeList = initial_solutions(nScout,batch_input,batch_output)\n",
        "    best_loss,best_weights,best_model = get_best_solution(beeList)\n",
        "    #print(\"Best weights: {}\".format(bestWeight))\n",
        "    print(\"Best loss: {}\".format(best_loss))\n",
        "    #print(\"Best model: {}\".format(bestModel.get_config()))\n",
        "    # Array to Hold Best Cost Values\n",
        "   \n",
        "    BestCost = [0] * maxIt\n",
        "    TotalCost = [0] * maxIt\n",
        "\n",
        "   # site abandonment threshold\n",
        "    sat = 300000\n",
        "    counter = 0\n",
        "    improvement = None\n",
        "  \n",
        "    for it in range(maxIt):\n",
        "  \n",
        "       recruitmentPhase(beeList, nSelectedSite, nEliteSite, ngh, batch_input, batch_output)\n",
        "       globalPhase(beeList, nSelectedSite, nScout, batch_input, batch_output)\n",
        "       best_loss,best_weights,best_model = get_best_solution(beeList)\n",
        "    \n",
        "       #Store Best Cost Ever Found\n",
        "       BestCost[it] = best_loss\n",
        "     \n",
        "    \n",
        "       #Display Iteration Information\n",
        "       print(['Iteration ' + str(it) + ': Best Cost = ' + str(BestCost[it])])\n",
        "       #Damp Neighborhood Radius\n",
        "       ngh = ngh * rdamp\n",
        "       \n",
        "       # sphinx_gallery_thumbnail_number = 2\n",
        "\n",
        "        # save the current training information\n",
        "    iters.append(i)\n",
        "    losses.append(float(best_loss))\n",
        "\n",
        "# plotting\n",
        "plt.plot(iters, losses)\n",
        "plt.title(\"Training Curve with BA\")\n",
        "plt.xlabel(\"Iterations\")\n",
        "plt.ylabel(\"Loss\")\n",
        "plt.show()"
      ],
      "execution_count": null,
      "outputs": []
    },
    {
      "cell_type": "code",
      "metadata": {
        "id": "YCLjbB7qPsDR"
      },
      "source": [
        "print(losses)\n",
        "print(len(losses))\n"
      ],
      "execution_count": null,
      "outputs": []
    },
    {
      "cell_type": "code",
      "metadata": {
        "id": "3pZMLozcS6CP"
      },
      "source": [
        ""
      ],
      "execution_count": null,
      "outputs": []
    },
    {
      "cell_type": "code",
      "metadata": {
        "id": "OK6LBgerTSZ2"
      },
      "source": [
        "batch_loss = []\n",
        "total_loss = []\n",
        "\n",
        "total_acc = []\n",
        "batch_acc= []\n",
        "\n",
        "maxIt = 10\n",
        "nScout = 3\n",
        "nSelectedSite = 2\n",
        "nEliteSite = 1\n",
        "nSelectedSiteBee = 1\n",
        "nEliteSiteBee = 1\n",
        "ngh = 0.5  # Neighborhood Radius\n",
        "\n",
        "rdamp = 0.05 # Neighborhood Radius Damp Rate\n",
        "\n",
        "num_epochs = 1\n",
        "\n",
        "\n",
        "\n",
        "for epoch in range(num_epochs):\n",
        "\n",
        "  epoch_loss_avg = tf.keras.metrics.Mean()\n",
        "  epoch_accuracy = tf.keras.metrics.BinaryAccuracy()\n",
        "\n",
        "\n",
        "  for i in range(100):\n",
        "\n",
        "    batch_input = input_test_small[i:i+1]\n",
        "    batch_output = y_test_small[i] \n",
        "    beeList = []\n",
        "    beeList = initial_solutions(nScout,batch_input,batch_output)\n",
        "    best_loss,best_weights,best_model = get_best_solution(beeList)\n",
        "    #print(\"Best weights: {}\".format(bestWeight))\n",
        "    print(\"Best loss: {}\".format(best_loss))\n",
        "    #print(\"Best model: {}\".format(bestModel.get_config()))\n",
        "    # Array to Hold Best Cost Values\n",
        "   \n",
        "    BestCost_test = [0] * maxIt\n",
        "\n",
        "   # site abandonment threshold\n",
        "    sat = 300000\n",
        "    counter = 0\n",
        "    improvement = None\n",
        "  \n",
        "    for it in range(maxIt):\n",
        "  \n",
        "       recruitmentPhase(beeList, nSelectedSite, nEliteSite, ngh, batch_input, batch_output)\n",
        "       globalPhase(beeList, nSelectedSite, nScout, batch_input, batch_output)\n",
        "       best_loss,best_weights,best_model = get_best_solution(beeList)\n",
        "    \n",
        "       #Store Best Cost Ever Found\n",
        "       BestCost_test[it] = best_loss\n",
        "    \n",
        "       #Display Iteration Information\n",
        "       print(['Iteration ' + str(it) + ': Best Cost = ' + str(BestCost_test[it])])\n",
        "       batch_loss.append(best_loss)\n",
        "      #Damp Neighborhood Radius\n",
        "\n",
        "       ngh = ngh * rdamp\n",
        "   \n",
        "       batch_acc = epoch_accuracy(batch_output, model(batch_input, training=True))\n",
        "    \n",
        "    total_loss.append(total_loss)\n",
        "    batch_loss = []\n",
        "\n",
        "    total_acc.append(batch_acc)\n",
        "    batch_acc = []\n",
        "\n"
      ],
      "execution_count": null,
      "outputs": []
    },
    {
      "cell_type": "code",
      "metadata": {
        "id": "BySuqL4dsXUD",
        "colab": {
          "base_uri": "https://localhost:8080/",
          "height": 394
        },
        "outputId": "0502dad6-9bbf-4bff-db31-9590a7851bf1"
      },
      "source": [
        "from keras import backend as K\n",
        "\n",
        "model=best_model\n",
        "\n",
        "def recall_m(y_true, y_pred):\n",
        "    true_positives = K.sum(K.round(K.clip(y_true * y_pred, 0, 1)))\n",
        "    possible_positives = K.sum(K.round(K.clip(y_true, 0, 1)))\n",
        "    recall = true_positives / (possible_positives + K.epsilon())\n",
        "    return recall\n",
        "\n",
        "def precision_m(y_true, y_pred):\n",
        "    true_positives = K.sum(K.round(K.clip(y_true * y_pred, 0, 1)))\n",
        "    predicted_positives = K.sum(K.round(K.clip(y_pred, 0, 1)))\n",
        "    precision = true_positives / (predicted_positives + K.epsilon())\n",
        "    return precision\n",
        "\n",
        "def f1_m(y_true, y_pred):\n",
        "    precision = precision_m(y_true, y_pred)\n",
        "    recall = recall_m(y_true, y_pred)\n",
        "    return 2*((precision*recall)/(precision+recall+K.epsilon()))\n",
        "\n",
        "# compile the model\n",
        "model.compile(optimizer='sgd', loss='binary_crossentropy', metrics=['acc',f1_m,precision_m, recall_m])\n",
        "\n",
        "history = model.fit(x=input_train, \n",
        "            y=y_train, \n",
        "            epochs=10, \n",
        "            validation_data=(input_test, y_test), \n",
        "            batch_size=32)\n",
        "\n",
        "# fit the model\n",
        "#history = model.fit(input_train, y_train, validation_split=0.3, epochs=10, verbose=0)\n",
        "\n",
        "# evaluate the model\n",
        "loss, accuracy, f1_score, precision, recall = model.evaluate(input_test, y_test, verbose=0)\n",
        "\n"
      ],
      "execution_count": null,
      "outputs": [
        {
          "output_type": "stream",
          "text": [
            "Train on 1120 samples, validate on 280 samples\n",
            "Epoch 1/10\n",
            "1120/1120 [==============================] - 9s 8ms/sample - loss: 0.6943 - acc: 0.4696 - f1_m: 0.2576 - precision_m: 0.2402 - recall_m: 0.4028 - val_loss: 0.6934 - val_acc: 0.4929 - val_f1_m: 0.0000e+00 - val_precision_m: 0.0000e+00 - val_recall_m: 0.0000e+00\n",
            "Epoch 2/10\n",
            "1120/1120 [==============================] - 8s 7ms/sample - loss: 0.6923 - acc: 0.5232 - f1_m: 0.1414 - precision_m: 0.1107 - recall_m: 0.2000 - val_loss: 0.6943 - val_acc: 0.5071 - val_f1_m: 0.6679 - val_precision_m: 0.5081 - val_recall_m: 1.0000\n",
            "Epoch 3/10\n",
            "1120/1120 [==============================] - 8s 7ms/sample - loss: 0.6946 - acc: 0.5009 - f1_m: 0.6045 - precision_m: 0.4596 - recall_m: 0.9068 - val_loss: 0.6932 - val_acc: 0.4929 - val_f1_m: 0.0000e+00 - val_precision_m: 0.0000e+00 - val_recall_m: 0.0000e+00\n",
            "Epoch 4/10\n",
            "1120/1120 [==============================] - 8s 7ms/sample - loss: 0.6941 - acc: 0.4938 - f1_m: 0.1892 - precision_m: 0.1668 - recall_m: 0.2765 - val_loss: 0.6930 - val_acc: 0.5071 - val_f1_m: 0.6714 - val_precision_m: 0.5116 - val_recall_m: 1.0000\n",
            "Epoch 5/10\n",
            "1120/1120 [==============================] - 8s 7ms/sample - loss: 0.6940 - acc: 0.4821 - f1_m: 0.4074 - precision_m: 0.3045 - recall_m: 0.6286 - val_loss: 0.6934 - val_acc: 0.4929 - val_f1_m: 0.0000e+00 - val_precision_m: 0.0000e+00 - val_recall_m: 0.0000e+00\n",
            "Epoch 6/10\n",
            "1120/1120 [==============================] - 8s 7ms/sample - loss: 0.6941 - acc: 0.4848 - f1_m: 0.3358 - precision_m: 0.2768 - recall_m: 0.5160 - val_loss: 0.6935 - val_acc: 0.4929 - val_f1_m: 0.0000e+00 - val_precision_m: 0.0000e+00 - val_recall_m: 0.0000e+00\n",
            "Epoch 7/10\n",
            "1120/1120 [==============================] - 8s 7ms/sample - loss: 0.6939 - acc: 0.4812 - f1_m: 0.1227 - precision_m: 0.0896 - recall_m: 0.2000 - val_loss: 0.6930 - val_acc: 0.5071 - val_f1_m: 0.6702 - val_precision_m: 0.5058 - val_recall_m: 1.0000\n",
            "Epoch 8/10\n",
            "1120/1120 [==============================] - 8s 7ms/sample - loss: 0.6941 - acc: 0.4955 - f1_m: 0.2098 - precision_m: 0.1640 - recall_m: 0.3163 - val_loss: 0.6930 - val_acc: 0.5071 - val_f1_m: 0.6719 - val_precision_m: 0.5069 - val_recall_m: 1.0000\n",
            "Epoch 9/10\n",
            "1120/1120 [==============================] - 9s 8ms/sample - loss: 0.6940 - acc: 0.4866 - f1_m: 0.3504 - precision_m: 0.3065 - recall_m: 0.5009 - val_loss: 0.6930 - val_acc: 0.5071 - val_f1_m: 0.6690 - val_precision_m: 0.5069 - val_recall_m: 1.0000\n",
            "Epoch 10/10\n",
            "1120/1120 [==============================] - 8s 7ms/sample - loss: 0.6938 - acc: 0.5045 - f1_m: 0.4561 - precision_m: 0.3455 - recall_m: 0.6857 - val_loss: 0.6942 - val_acc: 0.4929 - val_f1_m: 0.0000e+00 - val_precision_m: 0.0000e+00 - val_recall_m: 0.0000e+00\n"
          ],
          "name": "stdout"
        }
      ]
    },
    {
      "cell_type": "code",
      "metadata": {
        "id": "ir-RUDp2Z_GB",
        "colab": {
          "base_uri": "https://localhost:8080/",
          "height": 34
        },
        "outputId": "f102858f-53aa-4209-872b-d52fde7c4abb"
      },
      "source": [
        "print(f1_score)"
      ],
      "execution_count": null,
      "outputs": [
        {
          "output_type": "stream",
          "text": [
            "0.0\n"
          ],
          "name": "stdout"
        }
      ]
    },
    {
      "cell_type": "code",
      "metadata": {
        "id": "Kd7XvX2xVPai"
      },
      "source": [
        "model = best_model\n",
        " \n",
        " \n",
        "model.compile(optimizer='sgd',\n",
        "                loss='binary_crossentropy',\n",
        "                metrics=['accuracy'])\n",
        "\n",
        "#logdir = os.path.join(\"logs\", datetime.datetime.now().strftime(\"%Y%m%d-%H%M%S\"))\n",
        "#tensorboard_callback = tf.keras.callbacks.TensorBoard(logdir, histogram_freq=1)\n",
        "\n",
        "history = model.fit(x=input_train_small, \n",
        "            y=y_train_small, \n",
        "            epochs=100, \n",
        "            validation_data=(input_test_small, y_test_small))\n",
        "\n"
      ],
      "execution_count": null,
      "outputs": []
    },
    {
      "cell_type": "code",
      "metadata": {
        "id": "nmZfhUJDF3lH",
        "colab": {
          "base_uri": "https://localhost:8080/",
          "height": 763
        },
        "outputId": "224aee4e-9489-49bb-caa0-f477561332ac"
      },
      "source": [
        "import matplotlib.pyplot as plt\n",
        "\n",
        "\n",
        "#F1 Score = 2*(Recall * Precision) / (Recall + Precision)\n",
        "\n",
        "acc = history_test.history['accuracy']\n",
        "val_acc = history_test.history['val_accuracy']\n",
        "loss = history_test.history['loss']\n",
        "val_loss = history_test.history['val_loss']\n",
        "\n",
        "\n",
        "\n",
        "max_acc = max(acc)\n",
        "min_acc = min(acc)\n",
        "avg_acc = sum(acc)/len(acc)\n",
        "\n",
        "max_val_acc = max(val_acc)\n",
        "min_val_acc = min(val_acc)\n",
        "avg_val_acc = sum(val_acc)/len(val_acc)\n",
        "\n",
        "max_loss = max(loss)\n",
        "min_loss = min(loss)\n",
        "avg_loss = sum(loss)/len(loss)\n",
        "\n",
        "max_val_loss = max(val_loss)\n",
        "min_val_loss = min(val_loss)\n",
        "avg_val_loss = sum(val_loss)/len(val_loss)\n",
        "\n",
        "\n",
        "\n",
        "max_ba = max(BestCost)\n",
        "min_ba = min(BestCost)\n",
        "avg_ba = sum(BestCost)/len(BestCost)\n",
        "\n",
        "max_val_ba = max(BestCost_test)\n",
        "min_val_ba = min(BestCost_test)\n",
        "avg_val_ba = sum(BestCost_test)/len(BestCost_test)\n",
        "\n",
        "\n",
        "print(\"sgd acc \" , max_acc)\n",
        "print(\"sgd_val_acc,\",max_val_acc)\n",
        "\n",
        "print(\"avg sgd acc \" , avg_acc)\n",
        "print(\"avg sgd_val_acc,\",avg_val_acc)\n",
        "\n",
        "print(\"best sgd loss\", min_loss)\n",
        "print(\"best sgd_val,\",min_val_loss)\n",
        "\n",
        "print(\"avr sgd loss\", avg_loss)\n",
        "print(\"sgd_val,\",avg_val_loss)\n",
        "\n",
        "print(\"best ba loss,,\", min_ba)\n",
        "print(\"best ba_val loss\" , min_val_ba)\n",
        "\n",
        "print(\"avr ba loss,\", avg_ba)\n",
        "print(\"avr ba_val, \" , avg_val_ba)\n",
        "\n",
        "epochs = range(1, len(acc)+1)\n",
        "plt.plot(epochs, loss, 'b', label='SGD training loss')\n",
        "plt.plot(epochs, val_loss, 'r', label='SGD validation loss')\n",
        "#plt.plot(epochs, sgdloss, 'y', label='SGD training loss')\n",
        "#plt.plot(epochs, sgdval_loss, 'p', label='SGD validation loss')\n",
        "\n",
        "plt.xlabel('Epoch')\n",
        "plt.ylabel('Loss')\n",
        "\n",
        "plt.title('Turkish Movie Reviews DatasetResults with SGD')\n",
        "plt.legend()\n",
        "\n",
        "plt.figure()\n",
        "\n",
        "plt.plot(epochs, loss, 'b', label='Training loss')\n",
        "plt.plot(epochs, val_loss, 'bo', label='Validation loss')\n",
        "plt.title('word2vec Model Loss with RNN Layer')\n",
        "plt.legend()\n",
        "plt.show()"
      ],
      "execution_count": null,
      "outputs": [
        {
          "output_type": "stream",
          "text": [
            "sgd acc  0.9\n",
            "sgd_val_acc, 0.58\n",
            "avg sgd acc  0.5742999985814095\n",
            "avg sgd_val_acc, 0.4940000095963478\n",
            "best sgd loss 0.37689284451305866\n",
            "best sgd_val, 0.6898085862398148\n",
            "avr sgd loss 0.6686201716437938\n",
            "sgd_val, 0.7252772264629601\n",
            "best ba loss,, 0\n",
            "best ba_val loss tf.Tensor(1.1920929e-07, shape=(), dtype=float32)\n",
            "avr ba loss, 0.0\n",
            "avr ba_val,  tf.Tensor(0.054646667, shape=(), dtype=float32)\n"
          ],
          "name": "stdout"
        },
        {
          "output_type": "display_data",
          "data": {
            "image/png": "[encoded data removed]",
            "text/plain": [
              "<Figure size 432x288 with 1 Axes>"
            ]
          },
          "metadata": {
            "tags": []
          }
        },
        {
          "output_type": "display_data",
          "data": {
            "image/png": "[encoded data removed]",
            "text/plain": [
              "<Figure size 432x288 with 1 Axes>"
            ]
          },
          "metadata": {
            "tags": []
          }
        }
      ]
    },
    {
      "cell_type": "code",
      "metadata": {
        "id": "Otey3uR2UfDg"
      },
      "source": [
        "maxIt = 10\n",
        "nScout = 3\n",
        "nSelectedSite = 2\n",
        "nEliteSite = 1\n",
        "nSelectedSiteBee = 1\n",
        "nEliteSiteBee = 1\n",
        "ngh = 0.5  # Neighborhood Radius\n",
        "\n",
        "rdamp = 0.05 # Neighborhood Radius Damp Rate\n",
        "\n",
        "num_epochs = 1\n",
        "\n",
        "val_iters  = [] # save the iteration counts here for plotting\n",
        "val_losses = [] # save the avg loss here for plotting\n",
        "\n",
        "for epoch in range(100):\n",
        "\n",
        "  epoch_loss_avg = tf.keras.metrics.Mean()\n",
        "  epoch_accuracy = tf.keras.metrics.BinaryAccuracy()\n",
        "\n",
        "\n",
        "  for i in range(100):\n",
        "\n",
        "    batch_input = input_test_small[i:i+1]\n",
        "    batch_output = y_test_small[i] \n",
        "    beeList = []\n",
        "    beeList = initial_solutions(nScout,batch_input,batch_output)\n",
        "    best_loss,best_weights,best_model = get_best_solution(beeList)\n",
        "    #print(\"Best weights: {}\".format(bestWeight))\n",
        "    print(\"Best loss: {}\".format(best_loss))\n",
        "    #print(\"Best model: {}\".format(bestModel.get_config()))\n",
        "    # Array to Hold Best Cost Values\n",
        "   \n",
        "    BestCost = [0] * maxIt\n",
        "    ValCost = [0] * maxIt\n",
        "\n",
        "   # site abandonment threshold\n",
        "    sat = 300000\n",
        "    counter = 0\n",
        "    improvement = None\n",
        "  \n",
        "    for it in range(maxIt):\n",
        "  \n",
        "       recruitmentPhase(beeList, nSelectedSite, nEliteSite, ngh, batch_input, batch_output)\n",
        "       globalPhase(beeList, nSelectedSite, nScout, batch_input, batch_output)\n",
        "       best_loss,best_weights,best_model = get_best_solution(beeList)\n",
        "    \n",
        "       #Store Best Cost Ever Found\n",
        "       ValCost[it] = best_loss\n",
        "     \n",
        "    \n",
        "       #Display Iteration Information\n",
        "       print(['Iteration ' + str(it) + ': Best Cost = ' + str(ValCost[it])])\n",
        "       #Damp Neighborhood Radius\n",
        "       ngh = ngh * rdamp\n",
        "       \n",
        "       # sphinx_gallery_thumbnail_number = 2\n",
        "\n",
        "        # save the current training information\n",
        "    val_iters.append(i)\n",
        "    val_losses.append(float(best_loss))\n",
        "\n",
        "# plotting\n",
        "plt.plot(iters, val_losses)\n",
        "plt.title(\"Validation Curve with BA\")\n",
        "plt.xlabel(\"Iterations\")\n",
        "plt.ylabel(\"Loss\")\n",
        "plt.show()"
      ],
      "execution_count": null,
      "outputs": []
    },
    {
      "cell_type": "code",
      "metadata": {
        "id": "MESrsf-9Mzt0"
      },
      "source": [
        "train_accuracy=[]\n",
        "for i in range(len(acc)):\n",
        "   train_accuracy.append( 1- acc[i])\n",
        "\n",
        "# plotting\n",
        "plt.plot(iters, losses)\n",
        "plt.plot(iters, val_loss)\n",
        "plt.title(\"Training Loss for Turkish Movie-Sentiment Dataset with BA-SVD \")\n",
        "plt.xlabel(\"Loss\")\n",
        "plt.ylim(ymin=0,ymax=1) \n",
        "\n",
        "plt.ylabel(\"Accuracy\")\n",
        "plt.show()\n",
        "\n",
        "max_acc = max(train_accuracy)\n",
        "min_acc = min(train_accuracy)\n",
        "avg_acc = sum(train_accuracy)/len(train_accuracy)\n",
        "\n",
        "max_loss = max(losses)\n",
        "min_loss = min(losses)\n",
        "avg_loss = sum(losses)/len(losses)\n",
        "\n",
        "print(\"training max acc\",max_acc)\n",
        "print(\"training min acc\",min_acc)\n",
        "print(\"training avr acc\",avg_acc)\n",
        "\n",
        "print(\"training max loss\",max_loss)\n",
        "print(\"training min loss\",min_loss)\n",
        "print(\"training avr loss\",avg_loss)"
      ],
      "execution_count": null,
      "outputs": []
    },
    {
      "cell_type": "code",
      "metadata": {
        "id": "cmxAN6dQywRK",
        "colab": {
          "base_uri": "https://localhost:8080/",
          "height": 119
        },
        "outputId": "b6db027e-6f74-4ed0-b133-dbf0788e6779"
      },
      "source": [
        "val_accuracy=[]\n",
        "for i in range(len(val_loss)):\n",
        "  val_accuracy.append( 1- val_loss[i])\n",
        "\n",
        "\n",
        "val_max_acc = max(val_acc)\n",
        "val_min_acc = min(val_acc)\n",
        "val_avg_acc = sum(val_acc)/len(val_acc)\n",
        "\n",
        "val_max_loss = max(val_loss)\n",
        "val_min_loss = min(val_loss)\n",
        "val_avg_loss = sum(val_loss)/len(val_loss)\n",
        "\n",
        "print(\"max\",val_max_acc)\n",
        "print(\"min\",val_min_acc)\n",
        "print(\"avr\",val_avg_acc)\n",
        "\n",
        "print(\"max\",val_max_loss)\n",
        "print(\"min\",val_min_loss)\n",
        "print(\"avr\",val_avg_loss)"
      ],
      "execution_count": null,
      "outputs": [
        {
          "output_type": "stream",
          "text": [
            "max 0.57\n",
            "min 0.43\n",
            "avr 0.49300000071525574\n",
            "max 5.784786815643311\n",
            "min 0.6837753915786743\n",
            "avr 1.0881426008403305\n"
          ],
          "name": "stdout"
        }
      ]
    },
    {
      "cell_type": "code",
      "metadata": {
        "id": "BZfE9Fm06ZRM",
        "colab": {
          "base_uri": "https://localhost:8080/",
          "height": 295
        },
        "outputId": "83a3bea5-c9df-443c-d718-341251988feb"
      },
      "source": [
        "import matplotlib.pyplot as plt\n",
        "\n",
        "plt.figure()\n",
        "\n",
        "# plotting\n",
        "#plt.title('RNN Sentiment Classification Loss on Turkish Twitter dataset')\n",
        "\n",
        "plt.plot(iters, loss, 'b', label='BA training')\n",
        "plt.plot(iters, val_loss, 'r', label='BA validation')\n",
        "plt.title(\"Kitchen Products Dataset Loss with BA-SVD\")\n",
        "plt.ylim(ymin=0,ymax=1) \n",
        "plt.xlabel(\"Epoch\")\n",
        "plt.ylabel(\"Loss\")\n",
        "plt.legend()\n",
        "plt.show()\n"
      ],
      "execution_count": null,
      "outputs": [
        {
          "output_type": "display_data",
          "data": {
            "image/png": "[encoded data removed]",
            "text/plain": [
              "<Figure size 432x288 with 1 Axes>"
            ]
          },
          "metadata": {
            "tags": []
          }
        }
      ]
    },
    {
      "cell_type": "code",
      "metadata": {
        "id": "MkkHPJEKJsHV",
        "colab": {
          "base_uri": "https://localhost:8080/",
          "height": 533
        },
        "outputId": "01d07b6a-e30a-418a-ad33-bfb8d7e6b8e0"
      },
      "source": [
        "import matplotlib.pyplot as plt\n",
        "\n",
        "\n",
        "#F1 Score = 2*(Recall * Precision) / (Recall + Precision)\n",
        "\n",
        "acc = history.history['accuracy']\n",
        "val_acc = history.history['val_accuracy']\n",
        "loss = history.history['loss']\n",
        "val_loss = history.history['val_loss']\n",
        "\n",
        "max_acc = max(acc)\n",
        "min_acc = min(acc)\n",
        "avg_acc = sum(acc)/len(acc)\n",
        "\n",
        "max_loss = max(loss)\n",
        "min_loss = min(loss)\n",
        "avg_loss = sum(loss)/len(loss)\n",
        "\n",
        "print(\"training max acc\",max_acc)\n",
        "print(\"training min acc\",min_acc)\n",
        "print(\"training avr acc\",avg_acc)\n",
        "\n",
        "print(\"training max loss\",max_loss)\n",
        "print(\"training min loss\",min_loss)\n",
        "print(\"training avr loss\",avg_loss)\n",
        "\n",
        "val_max_acc = max(val_acc)\n",
        "val_min_acc = min(val_acc)\n",
        "val_avg_acc = sum(val_acc)/len(val_acc)\n",
        "\n",
        "val_max_loss = max(val_loss)\n",
        "val_min_loss = min(val_loss)\n",
        "val_avg_loss = sum(val_loss)/len(val_loss)\n",
        "\n",
        "print(\"max\",val_max_acc)\n",
        "print(\"min\",val_min_acc)\n",
        "print(\"avr\",val_avg_acc)\n",
        "\n",
        "print(\"max\",val_max_loss)\n",
        "print(\"min\",val_min_loss)\n",
        "print(\"avr\",val_avg_loss)\n",
        "\n",
        "epochs = range(1, len(acc) + 1)\n",
        "plt.plot(epochs, loss, 'b', label='SGD training')\n",
        "plt.plot(epochs, val_loss, 'r', label='SGD validation')\n",
        "plt.ylim(ymin=0,ymax=10) \n",
        "plt.title(\"Kitchen Products Dataset Results with SGD\")\n",
        "plt.xlabel('Epoch')\n",
        "plt.ylabel('Loss')\n",
        " \n",
        "plt.legend()\n",
        "plt.figure()\n"
      ],
      "execution_count": null,
      "outputs": [
        {
          "output_type": "stream",
          "text": [
            "training max acc 0.52\n",
            "training min acc 0.41\n",
            "training avr acc 0.5051999846100808\n",
            "training max loss 2.0414506340026857\n",
            "training min loss 0.6921529293060302\n",
            "training avr loss 0.7341937294244765\n",
            "max 0.55\n",
            "min 0.46\n",
            "avr 0.48410001158714294\n",
            "max 1.570418267250061\n",
            "min 0.6897616577148438\n",
            "avr 0.7194340163946148\n"
          ],
          "name": "stdout"
        },
        {
          "output_type": "execute_result",
          "data": {
            "text/plain": [
              "<Figure size 432x288 with 0 Axes>"
            ]
          },
          "metadata": {
            "tags": []
          },
          "execution_count": 58
        },
        {
          "output_type": "display_data",
          "data": {
            "image/png": "[encoded data removed]",
            "text/plain": [
              "<Figure size 432x288 with 1 Axes>"
            ]
          },
          "metadata": {
            "tags": []
          }
        },
        {
          "output_type": "display_data",
          "data": {
            "text/plain": [
              "<Figure size 432x288 with 0 Axes>"
            ]
          },
          "metadata": {
            "tags": []
          }
        }
      ]
    },
    {
      "cell_type": "code",
      "metadata": {
        "id": "cujeYssLUaRl",
        "colab": {
          "base_uri": "https://localhost:8080/",
          "height": 295
        },
        "outputId": "7b8414f9-524a-417d-d331-25b80871658c"
      },
      "source": [
        "import matplotlib.pyplot as plt\n",
        "iters =[]\n",
        "for i in range(100):\n",
        "  iters.append(i)\n",
        "\n",
        "plt.figure()\n",
        "\n",
        "# plotting\n",
        "#plt.title('RNN Sentiment Classification Loss on Turkish Twitter dataset')\n",
        "\n",
        "plt.plot(iters, losses, 'b', label='BA training')\n",
        "plt.plot(iters, val_losses, 'r', label='BA validation')\n",
        "plt.title(\"Turkish Movie Reviews Dataset Results with BA\")\n",
        "plt.ylim(ymin=0,ymax=1) \n",
        "plt.xlabel(\"Epoch\")\n",
        "plt.ylabel(\"Loss\")\n",
        "plt.legend()\n",
        "plt.show()\n"
      ],
      "execution_count": null,
      "outputs": [
        {
          "output_type": "display_data",
          "data": {
            "image/png": "[encoded data removed]",
            "text/plain": [
              "<Figure size 432x288 with 1 Axes>"
            ]
          },
          "metadata": {
            "tags": []
          }
        }
      ]
    },
    {
      "cell_type": "code",
      "metadata": {
        "id": "Na_cfifC0nJZ"
      },
      "source": [
        "import matplotlib.pyplot as plt\n",
        "\n",
        "\n",
        "#F1 Score = 2*(Recall * Precision) / (Recall + Precision)\n",
        "\n",
        "acc = history.history['accuracy']\n",
        "val_acc = history.history['val_accuracy']\n",
        "losses = history.history['loss']\n",
        "val_losses = history.history['val_loss']\n",
        "\n",
        "\n",
        "\n",
        "import matplotlib.pyplot as plt\n",
        "iters =[]\n",
        "for i in range(100):\n",
        "  iters.append(i)\n",
        "\n",
        "plt.figure()\n",
        "\n",
        "# plotting\n",
        "#plt.title('RNN Sentiment Classification Loss on Turkish Twitter dataset')\n",
        "\n",
        "plt.plot(iters, losses, 'b', label='BA training')\n",
        "plt.plot(iters, val_losses, 'r', label='BA validation')\n",
        "plt.title(\"Turkish Movie Reviews Dataset Results with SGD\")\n",
        "plt.ylim(ymin=0,ymax=1) \n",
        "plt.xlabel(\"Epoch\")\n",
        "plt.ylabel(\"Loss\")\n",
        "plt.legend()\n",
        "plt.show()"
      ],
      "execution_count": null,
      "outputs": []
    }
  ]
}